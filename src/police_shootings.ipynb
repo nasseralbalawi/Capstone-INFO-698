{
 "cells": [
  {
   "cell_type": "code",
   "execution_count": 1,
   "id": "6d171d4c-64d8-45d5-b2b1-c20b70f9d7a5",
   "metadata": {},
   "outputs": [],
   "source": [
    "import pandas as pd\n",
    "import matplotlib.pyplot as plt\n",
    "import seaborn as sns"
   ]
  },
  {
   "cell_type": "code",
   "execution_count": 2,
   "id": "8478e50b-f714-4e5d-b295-5e6b082a89f7",
   "metadata": {},
   "outputs": [],
   "source": [
    "df = pd.read_csv('fatal-police-shootings-data.csv',parse_dates=['date'])"
   ]
  },
  {
   "cell_type": "code",
   "execution_count": 3,
   "id": "98f04fa4-15fe-4e1f-8ef0-8a03f2d6761c",
   "metadata": {},
   "outputs": [
    {
     "name": "stdout",
     "output_type": "stream",
     "text": [
      "<class 'pandas.core.frame.DataFrame'>\n",
      "RangeIndex: 8643 entries, 0 to 8642\n",
      "Data columns (total 19 columns):\n",
      " #   Column                      Non-Null Count  Dtype         \n",
      "---  ------                      --------------  -----         \n",
      " 0   id                          8643 non-null   int64         \n",
      " 1   date                        8643 non-null   datetime64[ns]\n",
      " 2   threat_type                 8612 non-null   object        \n",
      " 3   flee_status                 7491 non-null   object        \n",
      " 4   armed_with                  8433 non-null   object        \n",
      " 5   city                        8595 non-null   object        \n",
      " 6   county                      3787 non-null   object        \n",
      " 7   state                       8643 non-null   object        \n",
      " 8   latitude                    7674 non-null   float64       \n",
      " 9   longitude                   7674 non-null   float64       \n",
      " 10  location_precision          7674 non-null   object        \n",
      " 11  name                        8085 non-null   object        \n",
      " 12  age                         8054 non-null   float64       \n",
      " 13  gender                      8599 non-null   object        \n",
      " 14  race                        7301 non-null   object        \n",
      " 15  race_source                 7323 non-null   object        \n",
      " 16  was_mental_illness_related  8643 non-null   bool          \n",
      " 17  body_camera                 8643 non-null   bool          \n",
      " 18  agency_ids                  8643 non-null   object        \n",
      "dtypes: bool(2), datetime64[ns](1), float64(3), int64(1), object(12)\n",
      "memory usage: 1.1+ MB\n"
     ]
    }
   ],
   "source": [
    "df.info()"
   ]
  },
  {
   "cell_type": "code",
   "execution_count": 4,
   "id": "45f5a9d5-86ab-419d-b02c-29f7a568dd41",
   "metadata": {},
   "outputs": [
    {
     "data": {
      "text/plain": [
       "Index(['id', 'date', 'threat_type', 'flee_status', 'armed_with', 'city',\n",
       "       'county', 'state', 'latitude', 'longitude', 'location_precision',\n",
       "       'name', 'age', 'gender', 'race', 'race_source',\n",
       "       'was_mental_illness_related', 'body_camera', 'agency_ids'],\n",
       "      dtype='object')"
      ]
     },
     "execution_count": 4,
     "metadata": {},
     "output_type": "execute_result"
    }
   ],
   "source": [
    "df.columns"
   ]
  },
  {
   "cell_type": "code",
   "execution_count": 5,
   "id": "fb584868-d2f3-4250-8ff1-7d5f138501ac",
   "metadata": {},
   "outputs": [],
   "source": [
    "# Convert string dates to datetime objects\n",
    "start_pre_covid = pd.to_datetime('2016-01-01')\n",
    "end_pre_covid = pd.to_datetime('2019-06-30')\n",
    "start_post_covid = pd.to_datetime('2020-01-01')\n",
    "end_post_covid = pd.to_datetime('2023-06-30')"
   ]
  },
  {
   "cell_type": "code",
   "execution_count": 6,
   "id": "ef7f06d8-7dd4-4713-a615-90626cc995e9",
   "metadata": {},
   "outputs": [],
   "source": [
    "df_pre_covid = df[(df['date'] >= start_pre_covid) & (df['date'] <= end_pre_covid)].copy()\n",
    "df_post_covid = df[(df['date'] >= start_post_covid) & (df['date'] <= end_post_covid)].copy()"
   ]
  },
  {
   "cell_type": "code",
   "execution_count": 48,
   "id": "280b361d-d897-4c9c-aa05-c2f82dedd87d",
   "metadata": {},
   "outputs": [],
   "source": [
    "# state = df['state']\n",
    "# gender = df['gender']\n",
    "# date = df['date']\n",
    "df_pre_covid['year'] = df_pre_covid['date'].dt.year\n",
    "df_post_covid['year'] = df_post_covid['date'].dt.year"
   ]
  },
  {
   "cell_type": "code",
   "execution_count": 53,
   "id": "19500a28-c873-401e-aa6b-cd25026ef682",
   "metadata": {},
   "outputs": [],
   "source": [
    "# df_post_covid"
   ]
  },
  {
   "cell_type": "code",
   "execution_count": 119,
   "id": "0ea28c79-19f3-4f20-ba20-018d8b56be73",
   "metadata": {},
   "outputs": [],
   "source": [
    "population_data = pd.read_csv('Population 2016-2023.csv')"
   ]
  },
  {
   "cell_type": "code",
   "execution_count": 120,
   "id": "e949f7c1-4e5c-4950-a48e-761eb40d0f0d",
   "metadata": {},
   "outputs": [],
   "source": [
    "population_data['state'] = population_data['state'].str.lstrip('.')"
   ]
  },
  {
   "cell_type": "code",
   "execution_count": 121,
   "id": "db52b434-7913-4112-9608-5c38ad124819",
   "metadata": {},
   "outputs": [],
   "source": [
    "# Dictionary of state names to abbreviations\n",
    "state_to_abbr = {\n",
    "    'Alabama': 'AL', 'Alaska': 'AK', 'Arizona': 'AZ', 'Arkansas': 'AR', 'California': 'CA',\n",
    "    'Colorado': 'CO', 'Connecticut': 'CT', 'Delaware': 'DE', 'Florida': 'FL', 'Georgia': 'GA',\n",
    "    'Hawaii': 'HI', 'Idaho': 'ID', 'Illinois': 'IL', 'Indiana': 'IN', 'Iowa': 'IA',\n",
    "    'Kansas': 'KS', 'Kentucky': 'KY', 'Louisiana': 'LA', 'Maine': 'ME', 'Maryland': 'MD',\n",
    "    'Massachusetts': 'MA', 'Michigan': 'MI', 'Minnesota': 'MN', 'Mississippi': 'MS', 'Missouri': 'MO',\n",
    "    'Montana': 'MT', 'Nebraska': 'NE', 'Nevada': 'NV', 'New Hampshire': 'NH', 'New Jersey': 'NJ',\n",
    "    'New Mexico': 'NM', 'New York': 'NY', 'North Carolina': 'NC', 'North Dakota': 'ND', 'Ohio': 'OH',\n",
    "    'Oklahoma': 'OK', 'Oregon': 'OR', 'Pennsylvania': 'PA', 'Rhode Island': 'RI', 'South Carolina': 'SC',\n",
    "    'South Dakota': 'SD', 'Tennessee': 'TN', 'Texas': 'TX', 'Utah': 'UT', 'Vermont': 'VT',\n",
    "    'Virginia': 'VA', 'Washington': 'WA', 'West Virginia': 'WV', 'Wisconsin': 'WI', 'Wyoming': 'WY'\n",
    "}"
   ]
  },
  {
   "cell_type": "code",
   "execution_count": 122,
   "id": "76a6ee9c-93f1-4941-934b-68893f6a6ede",
   "metadata": {},
   "outputs": [],
   "source": [
    "population_data['state'] = population_data['state'].replace(state_to_abbr)"
   ]
  },
  {
   "cell_type": "code",
   "execution_count": 123,
   "id": "356e1126-1871-466a-b9f3-107ff4c99ecf",
   "metadata": {},
   "outputs": [],
   "source": [
    "# Columns for each period\n",
    "cols_2016_2019 = ['state'] + [str(year) for year in range(2016, 2020)]\n",
    "cols_2020_2023 = ['state'] + [str(year) for year in range(2020, 2024)]"
   ]
  },
  {
   "cell_type": "markdown",
   "id": "3c17577e-87ef-49be-9b61-6b284611fa4d",
   "metadata": {},
   "source": [
    "## Calculating the annual shooting incidents per capita for each state befpre COVID"
   ]
  },
  {
   "cell_type": "code",
   "execution_count": 197,
   "id": "c08cd22e-59a9-4846-b8a9-1a959a826daf",
   "metadata": {},
   "outputs": [],
   "source": [
    "# Splitting the data\n",
    "data_2016_2019 = population_data[cols_2016_2019]\n",
    "data_2020_2023 = population_data[cols_2020_2023]"
   ]
  },
  {
   "cell_type": "code",
   "execution_count": 149,
   "id": "b1848281-18e3-4c1f-ab42-d0ccf74930e4",
   "metadata": {},
   "outputs": [],
   "source": [
    "# Convert from wide format to long format\n",
    "melted_df = data_2016_2019.melt(id_vars=['state'], \n",
    "                    value_vars=['2016', '2017', '2018', '2019'], \n",
    "                    var_name='year', \n",
    "                    value_name='population')"
   ]
  },
  {
   "cell_type": "code",
   "execution_count": 150,
   "id": "a904ef85-900d-4216-a401-f8169228de03",
   "metadata": {},
   "outputs": [],
   "source": [
    "# Remove commas and convert 'population' to integer\n",
    "melted_df['population'] = melted_df['population'].str.replace(',', '').astype(int)\n",
    "data_2016_2019 = melted_df.sort_values(by='state')\n",
    "data_2016_2019['year'] = data_2016_2019['year'].astype(int)"
   ]
  },
  {
   "cell_type": "code",
   "execution_count": null,
   "id": "1f06f741-97f1-4f4e-9895-f7a17fa72ef8",
   "metadata": {},
   "outputs": [],
   "source": []
  },
  {
   "cell_type": "code",
   "execution_count": 151,
   "id": "afbed57f-674a-409f-a8cc-e643c3d6ff28",
   "metadata": {},
   "outputs": [],
   "source": [
    "# Count incidents by state and year\n",
    "incident_counts = df_pre_covid.groupby(['state', 'year']).size().reset_index(name='incidents')"
   ]
  },
  {
   "cell_type": "code",
   "execution_count": 152,
   "id": "f55fb039-8405-4661-bc39-300f45779de3",
   "metadata": {},
   "outputs": [
    {
     "name": "stdout",
     "output_type": "stream",
     "text": [
      "state        object\n",
      "year          int64\n",
      "incidents     int64\n",
      "dtype: object\n",
      "state         object\n",
      "year           int64\n",
      "population     int64\n",
      "dtype: object\n"
     ]
    }
   ],
   "source": [
    "# print(incident_counts.head())\n",
    "# print(data_2016_2019.head())\n",
    "print(incident_counts.dtypes)\n",
    "print(data_2016_2019.dtypes)"
   ]
  },
  {
   "cell_type": "code",
   "execution_count": 188,
   "id": "947f60bf-afc7-428f-ae9c-41bfc64801cf",
   "metadata": {},
   "outputs": [],
   "source": [
    "# Merge with population data\n",
    "# merged_data = pd.merge(incident_counts, data_2016_2019, on=['state', 'year'])\n",
    "merged_data = pd.merge(data_2016_2019, incident_counts, on=['state', 'year'], how='outer')\n"
   ]
  },
  {
   "cell_type": "code",
   "execution_count": 189,
   "id": "ef8f6d7b-d138-4193-9a10-f7fb078d91fa",
   "metadata": {},
   "outputs": [],
   "source": [
    "merged_data['incidents'] = merged_data['incidents'].fillna(0).astype(int)"
   ]
  },
  {
   "cell_type": "code",
   "execution_count": 190,
   "id": "0e942627-59ba-444f-9de9-ca2e820f175d",
   "metadata": {},
   "outputs": [],
   "source": [
    "# merged_data[merged_data['state'] == 'DC']"
   ]
  },
  {
   "cell_type": "code",
   "execution_count": 191,
   "id": "7dc2b28a-feea-4ddc-a99e-ddb58b5c6c64",
   "metadata": {},
   "outputs": [
    {
     "data": {
      "text/html": [
       "<div>\n",
       "<style scoped>\n",
       "    .dataframe tbody tr th:only-of-type {\n",
       "        vertical-align: middle;\n",
       "    }\n",
       "\n",
       "    .dataframe tbody tr th {\n",
       "        vertical-align: top;\n",
       "    }\n",
       "\n",
       "    .dataframe thead th {\n",
       "        text-align: right;\n",
       "    }\n",
       "</style>\n",
       "<table border=\"1\" class=\"dataframe\">\n",
       "  <thead>\n",
       "    <tr style=\"text-align: right;\">\n",
       "      <th></th>\n",
       "      <th>state</th>\n",
       "      <th>year</th>\n",
       "      <th>population</th>\n",
       "      <th>incidents</th>\n",
       "    </tr>\n",
       "  </thead>\n",
       "  <tbody>\n",
       "    <tr>\n",
       "      <th>0</th>\n",
       "      <td>AK</td>\n",
       "      <td>2017</td>\n",
       "      <td>740983</td>\n",
       "      <td>8</td>\n",
       "    </tr>\n",
       "    <tr>\n",
       "      <th>1</th>\n",
       "      <td>AK</td>\n",
       "      <td>2016</td>\n",
       "      <td>742575</td>\n",
       "      <td>7</td>\n",
       "    </tr>\n",
       "    <tr>\n",
       "      <th>2</th>\n",
       "      <td>AK</td>\n",
       "      <td>2018</td>\n",
       "      <td>736624</td>\n",
       "      <td>7</td>\n",
       "    </tr>\n",
       "    <tr>\n",
       "      <th>3</th>\n",
       "      <td>AK</td>\n",
       "      <td>2019</td>\n",
       "      <td>733603</td>\n",
       "      <td>5</td>\n",
       "    </tr>\n",
       "    <tr>\n",
       "      <th>4</th>\n",
       "      <td>AL</td>\n",
       "      <td>2018</td>\n",
       "      <td>4891628</td>\n",
       "      <td>13</td>\n",
       "    </tr>\n",
       "    <tr>\n",
       "      <th>...</th>\n",
       "      <td>...</td>\n",
       "      <td>...</td>\n",
       "      <td>...</td>\n",
       "      <td>...</td>\n",
       "    </tr>\n",
       "    <tr>\n",
       "      <th>199</th>\n",
       "      <td>WV</td>\n",
       "      <td>2017</td>\n",
       "      <td>1818683</td>\n",
       "      <td>11</td>\n",
       "    </tr>\n",
       "    <tr>\n",
       "      <th>200</th>\n",
       "      <td>WY</td>\n",
       "      <td>2017</td>\n",
       "      <td>579994</td>\n",
       "      <td>1</td>\n",
       "    </tr>\n",
       "    <tr>\n",
       "      <th>201</th>\n",
       "      <td>WY</td>\n",
       "      <td>2016</td>\n",
       "      <td>585243</td>\n",
       "      <td>2</td>\n",
       "    </tr>\n",
       "    <tr>\n",
       "      <th>202</th>\n",
       "      <td>WY</td>\n",
       "      <td>2018</td>\n",
       "      <td>579054</td>\n",
       "      <td>4</td>\n",
       "    </tr>\n",
       "    <tr>\n",
       "      <th>203</th>\n",
       "      <td>WY</td>\n",
       "      <td>2019</td>\n",
       "      <td>580116</td>\n",
       "      <td>0</td>\n",
       "    </tr>\n",
       "  </tbody>\n",
       "</table>\n",
       "<p>204 rows × 4 columns</p>\n",
       "</div>"
      ],
      "text/plain": [
       "    state  year  population  incidents\n",
       "0      AK  2017      740983          8\n",
       "1      AK  2016      742575          7\n",
       "2      AK  2018      736624          7\n",
       "3      AK  2019      733603          5\n",
       "4      AL  2018     4891628         13\n",
       "..    ...   ...         ...        ...\n",
       "199    WV  2017     1818683         11\n",
       "200    WY  2017      579994          1\n",
       "201    WY  2016      585243          2\n",
       "202    WY  2018      579054          4\n",
       "203    WY  2019      580116          0\n",
       "\n",
       "[204 rows x 4 columns]"
      ]
     },
     "execution_count": 191,
     "metadata": {},
     "output_type": "execute_result"
    }
   ],
   "source": [
    "merged_data"
   ]
  },
  {
   "cell_type": "code",
   "execution_count": 192,
   "id": "6f3f3a35-3924-4b85-a70e-52fe6b627696",
   "metadata": {},
   "outputs": [],
   "source": [
    "merged_data['incidents_per_100K'] = (merged_data['incidents'] / merged_data['population']) * 100000"
   ]
  },
  {
   "cell_type": "code",
   "execution_count": 174,
   "id": "70735a12-8ed4-4cd5-b6cc-b9bf692d7862",
   "metadata": {},
   "outputs": [],
   "source": [
    "# merged_data"
   ]
  },
  {
   "cell_type": "code",
   "execution_count": 193,
   "id": "8fcbb3f8-6c2a-4923-a374-52b5b17f90dd",
   "metadata": {},
   "outputs": [],
   "source": [
    "# merged_data = merged_data.sort_values(by='incidents_per_100K', ascending=False)"
   ]
  },
  {
   "cell_type": "code",
   "execution_count": 194,
   "id": "b27bb97a-d9c2-41c5-968c-5f3934502739",
   "metadata": {},
   "outputs": [
    {
     "data": {
      "image/png": "[encoded data removed]",
      "text/plain": [
       "<Figure size 1080x720 with 1 Axes>"
      ]
     },
     "metadata": {
      "needs_background": "light"
     },
     "output_type": "display_data"
    }
   ],
   "source": [
    "plt.figure(figsize=(15, 10))  # Adjust as needed\n",
    "plt.bar(merged_data['state'], merged_data['incidents_per_100K'])\n",
    "plt.xticks(rotation=90)  # Rotates the state names so they don't overlap\n",
    "plt.ylabel('Incidents per 100K')\n",
    "plt.xlabel('State')\n",
    "plt.title('Incidents per 100K by State')\n",
    "plt.show()"
   ]
  },
  {
   "cell_type": "code",
   "execution_count": 208,
   "id": "f5cdefdc-7081-4143-8252-6e8aebbcea3d",
   "metadata": {},
   "outputs": [
    {
     "name": "stderr",
     "output_type": "stream",
     "text": [
      "/tmp/ipykernel_17361/2810463471.py:4: FutureWarning: \n",
      "\n",
      "The `ci` parameter is deprecated. Use `errorbar=None` for the same effect.\n",
      "\n",
      "  sns.barplot(x='state', y='incidents_per_100K', hue='year', data=merged_data, ci=None)\n"
     ]
    },
    {
     "data": {
      "image/png": "[encoded data removed]",
      "text/plain": [
       "<Figure size 1440x720 with 1 Axes>"
      ]
     },
     "metadata": {
      "needs_background": "light"
     },
     "output_type": "display_data"
    }
   ],
   "source": [
    "plt.figure(figsize=(20, 10))\n",
    "\n",
    "# Using seaborn's barplot with hue as 'year' creates a grouped bar chart.\n",
    "sns.barplot(x='state', y='incidents_per_100K', hue='year', data=merged_data, ci=None)\n",
    "\n",
    "plt.xticks(rotation=90)\n",
    "plt.ylabel('Incidents per 100K')\n",
    "plt.xlabel('State')\n",
    "plt.title('Incidents per 100K by State for Each Year')\n",
    "plt.legend(title='Year')\n",
    "\n",
    "plt.tight_layout()\n",
    "plt.ylim(0, 1.75)\n",
    "plt.show()\n"
   ]
  },
  {
   "cell_type": "markdown",
   "id": "e198ca5f-dc92-48e5-b2e2-dab9aaa3c15f",
   "metadata": {},
   "source": [
    "## Calculating the annual shooting incidents per capita for each state after COVID"
   ]
  },
  {
   "cell_type": "code",
   "execution_count": 198,
   "id": "b35d84c7-c148-452a-9e53-f88d1d6fd8d6",
   "metadata": {},
   "outputs": [],
   "source": [
    "# Convert from wide format to long format\n",
    "melted_df_post = data_2020_2023.melt(id_vars=['state'], \n",
    "                    value_vars=['2020', '2021', '2022', '2023'], \n",
    "                    var_name='year', \n",
    "                    value_name='population')"
   ]
  },
  {
   "cell_type": "code",
   "execution_count": 199,
   "id": "c19d4887-379f-40c4-a8ce-8634ac11832d",
   "metadata": {},
   "outputs": [],
   "source": [
    "# Remove commas and convert 'population' to integer\n",
    "melted_df_post['population'] = melted_df_post['population'].str.replace(',', '').astype(int)\n",
    "data_2020_2023 = melted_df_post.sort_values(by='state')\n",
    "data_2020_2023['year'] = data_2020_2023['year'].astype(int)"
   ]
  },
  {
   "cell_type": "code",
   "execution_count": 200,
   "id": "76385f00-051e-4f73-96b6-7ec7228342ef",
   "metadata": {},
   "outputs": [],
   "source": [
    "# Count incidents by state and year\n",
    "incident_counts_post = df_post_covid.groupby(['state', 'year']).size().reset_index(name='incidents')"
   ]
  },
  {
   "cell_type": "code",
   "execution_count": 201,
   "id": "a8dc496d-250c-43ce-aec3-8e9de43ae81f",
   "metadata": {},
   "outputs": [
    {
     "name": "stdout",
     "output_type": "stream",
     "text": [
      "state        object\n",
      "year          int64\n",
      "incidents     int64\n",
      "dtype: object\n",
      "state         object\n",
      "year           int64\n",
      "population     int64\n",
      "dtype: object\n"
     ]
    }
   ],
   "source": [
    "print(incident_counts_post.dtypes)\n",
    "print(data_2020_2023.dtypes)"
   ]
  },
  {
   "cell_type": "code",
   "execution_count": 202,
   "id": "5508d401-8778-49e5-b19f-090ddb4ea776",
   "metadata": {},
   "outputs": [],
   "source": [
    "merged_data_post = pd.merge(data_2020_2023, incident_counts_post, on=['state', 'year'], how='outer')\n",
    "merged_data_post['incidents'] = merged_data_post['incidents'].fillna(0).astype(int)"
   ]
  },
  {
   "cell_type": "code",
   "execution_count": 203,
   "id": "efdd960b-f55b-43b8-8278-efd58ebf9e57",
   "metadata": {},
   "outputs": [],
   "source": [
    "merged_data_post['incidents_per_100K'] = (merged_data_post['incidents'] / merged_data_post['population']) * 100000"
   ]
  },
  {
   "cell_type": "code",
   "execution_count": 204,
   "id": "bf3a495a-764c-4e70-9a4d-bb6bf14730fb",
   "metadata": {},
   "outputs": [
    {
     "data": {
      "text/html": [
       "<div>\n",
       "<style scoped>\n",
       "    .dataframe tbody tr th:only-of-type {\n",
       "        vertical-align: middle;\n",
       "    }\n",
       "\n",
       "    .dataframe tbody tr th {\n",
       "        vertical-align: top;\n",
       "    }\n",
       "\n",
       "    .dataframe thead th {\n",
       "        text-align: right;\n",
       "    }\n",
       "</style>\n",
       "<table border=\"1\" class=\"dataframe\">\n",
       "  <thead>\n",
       "    <tr style=\"text-align: right;\">\n",
       "      <th></th>\n",
       "      <th>state</th>\n",
       "      <th>year</th>\n",
       "      <th>population</th>\n",
       "      <th>incidents</th>\n",
       "      <th>incidents_per_100K</th>\n",
       "    </tr>\n",
       "  </thead>\n",
       "  <tbody>\n",
       "    <tr>\n",
       "      <th>0</th>\n",
       "      <td>AK</td>\n",
       "      <td>2021</td>\n",
       "      <td>734182</td>\n",
       "      <td>7</td>\n",
       "      <td>0.953442</td>\n",
       "    </tr>\n",
       "    <tr>\n",
       "      <th>1</th>\n",
       "      <td>AK</td>\n",
       "      <td>2020</td>\n",
       "      <td>732923</td>\n",
       "      <td>9</td>\n",
       "      <td>1.227960</td>\n",
       "    </tr>\n",
       "    <tr>\n",
       "      <th>2</th>\n",
       "      <td>AK</td>\n",
       "      <td>2022</td>\n",
       "      <td>733583</td>\n",
       "      <td>5</td>\n",
       "      <td>0.681586</td>\n",
       "    </tr>\n",
       "    <tr>\n",
       "      <th>3</th>\n",
       "      <td>AK</td>\n",
       "      <td>2023</td>\n",
       "      <td>733583</td>\n",
       "      <td>2</td>\n",
       "      <td>0.272634</td>\n",
       "    </tr>\n",
       "    <tr>\n",
       "      <th>4</th>\n",
       "      <td>AL</td>\n",
       "      <td>2022</td>\n",
       "      <td>5074296</td>\n",
       "      <td>20</td>\n",
       "      <td>0.394143</td>\n",
       "    </tr>\n",
       "    <tr>\n",
       "      <th>...</th>\n",
       "      <td>...</td>\n",
       "      <td>...</td>\n",
       "      <td>...</td>\n",
       "      <td>...</td>\n",
       "      <td>...</td>\n",
       "    </tr>\n",
       "    <tr>\n",
       "      <th>199</th>\n",
       "      <td>WV</td>\n",
       "      <td>2021</td>\n",
       "      <td>1785526</td>\n",
       "      <td>6</td>\n",
       "      <td>0.336035</td>\n",
       "    </tr>\n",
       "    <tr>\n",
       "      <th>200</th>\n",
       "      <td>WY</td>\n",
       "      <td>2021</td>\n",
       "      <td>579483</td>\n",
       "      <td>3</td>\n",
       "      <td>0.517703</td>\n",
       "    </tr>\n",
       "    <tr>\n",
       "      <th>201</th>\n",
       "      <td>WY</td>\n",
       "      <td>2020</td>\n",
       "      <td>577605</td>\n",
       "      <td>1</td>\n",
       "      <td>0.173129</td>\n",
       "    </tr>\n",
       "    <tr>\n",
       "      <th>202</th>\n",
       "      <td>WY</td>\n",
       "      <td>2022</td>\n",
       "      <td>581381</td>\n",
       "      <td>10</td>\n",
       "      <td>1.720042</td>\n",
       "    </tr>\n",
       "    <tr>\n",
       "      <th>203</th>\n",
       "      <td>WY</td>\n",
       "      <td>2023</td>\n",
       "      <td>581381</td>\n",
       "      <td>1</td>\n",
       "      <td>0.172004</td>\n",
       "    </tr>\n",
       "  </tbody>\n",
       "</table>\n",
       "<p>204 rows × 5 columns</p>\n",
       "</div>"
      ],
      "text/plain": [
       "    state  year  population  incidents  incidents_per_100K\n",
       "0      AK  2021      734182          7            0.953442\n",
       "1      AK  2020      732923          9            1.227960\n",
       "2      AK  2022      733583          5            0.681586\n",
       "3      AK  2023      733583          2            0.272634\n",
       "4      AL  2022     5074296         20            0.394143\n",
       "..    ...   ...         ...        ...                 ...\n",
       "199    WV  2021     1785526          6            0.336035\n",
       "200    WY  2021      579483          3            0.517703\n",
       "201    WY  2020      577605          1            0.173129\n",
       "202    WY  2022      581381         10            1.720042\n",
       "203    WY  2023      581381          1            0.172004\n",
       "\n",
       "[204 rows x 5 columns]"
      ]
     },
     "execution_count": 204,
     "metadata": {},
     "output_type": "execute_result"
    }
   ],
   "source": [
    "merged_data_post"
   ]
  },
  {
   "cell_type": "code",
   "execution_count": 205,
   "id": "a4dffb08-60df-4fd4-a640-e586764d479d",
   "metadata": {},
   "outputs": [],
   "source": [
    "# merged_data_post = merged_data_post.sort_values(by='incidents_per_100K', ascending=False)"
   ]
  },
  {
   "cell_type": "code",
   "execution_count": 206,
   "id": "1eb6bd61-9aff-4d22-9809-6418b701c361",
   "metadata": {},
   "outputs": [
    {
     "data": {
      "text/html": [
       "<div>\n",
       "<style scoped>\n",
       "    .dataframe tbody tr th:only-of-type {\n",
       "        vertical-align: middle;\n",
       "    }\n",
       "\n",
       "    .dataframe tbody tr th {\n",
       "        vertical-align: top;\n",
       "    }\n",
       "\n",
       "    .dataframe thead th {\n",
       "        text-align: right;\n",
       "    }\n",
       "</style>\n",
       "<table border=\"1\" class=\"dataframe\">\n",
       "  <thead>\n",
       "    <tr style=\"text-align: right;\">\n",
       "      <th></th>\n",
       "      <th>state</th>\n",
       "      <th>year</th>\n",
       "      <th>population</th>\n",
       "      <th>incidents</th>\n",
       "      <th>incidents_per_100K</th>\n",
       "    </tr>\n",
       "  </thead>\n",
       "  <tbody>\n",
       "    <tr>\n",
       "      <th>0</th>\n",
       "      <td>AK</td>\n",
       "      <td>2021</td>\n",
       "      <td>734182</td>\n",
       "      <td>7</td>\n",
       "      <td>0.953442</td>\n",
       "    </tr>\n",
       "    <tr>\n",
       "      <th>1</th>\n",
       "      <td>AK</td>\n",
       "      <td>2020</td>\n",
       "      <td>732923</td>\n",
       "      <td>9</td>\n",
       "      <td>1.227960</td>\n",
       "    </tr>\n",
       "    <tr>\n",
       "      <th>2</th>\n",
       "      <td>AK</td>\n",
       "      <td>2022</td>\n",
       "      <td>733583</td>\n",
       "      <td>5</td>\n",
       "      <td>0.681586</td>\n",
       "    </tr>\n",
       "    <tr>\n",
       "      <th>3</th>\n",
       "      <td>AK</td>\n",
       "      <td>2023</td>\n",
       "      <td>733583</td>\n",
       "      <td>2</td>\n",
       "      <td>0.272634</td>\n",
       "    </tr>\n",
       "    <tr>\n",
       "      <th>4</th>\n",
       "      <td>AL</td>\n",
       "      <td>2022</td>\n",
       "      <td>5074296</td>\n",
       "      <td>20</td>\n",
       "      <td>0.394143</td>\n",
       "    </tr>\n",
       "    <tr>\n",
       "      <th>...</th>\n",
       "      <td>...</td>\n",
       "      <td>...</td>\n",
       "      <td>...</td>\n",
       "      <td>...</td>\n",
       "      <td>...</td>\n",
       "    </tr>\n",
       "    <tr>\n",
       "      <th>199</th>\n",
       "      <td>WV</td>\n",
       "      <td>2021</td>\n",
       "      <td>1785526</td>\n",
       "      <td>6</td>\n",
       "      <td>0.336035</td>\n",
       "    </tr>\n",
       "    <tr>\n",
       "      <th>200</th>\n",
       "      <td>WY</td>\n",
       "      <td>2021</td>\n",
       "      <td>579483</td>\n",
       "      <td>3</td>\n",
       "      <td>0.517703</td>\n",
       "    </tr>\n",
       "    <tr>\n",
       "      <th>201</th>\n",
       "      <td>WY</td>\n",
       "      <td>2020</td>\n",
       "      <td>577605</td>\n",
       "      <td>1</td>\n",
       "      <td>0.173129</td>\n",
       "    </tr>\n",
       "    <tr>\n",
       "      <th>202</th>\n",
       "      <td>WY</td>\n",
       "      <td>2022</td>\n",
       "      <td>581381</td>\n",
       "      <td>10</td>\n",
       "      <td>1.720042</td>\n",
       "    </tr>\n",
       "    <tr>\n",
       "      <th>203</th>\n",
       "      <td>WY</td>\n",
       "      <td>2023</td>\n",
       "      <td>581381</td>\n",
       "      <td>1</td>\n",
       "      <td>0.172004</td>\n",
       "    </tr>\n",
       "  </tbody>\n",
       "</table>\n",
       "<p>204 rows × 5 columns</p>\n",
       "</div>"
      ],
      "text/plain": [
       "    state  year  population  incidents  incidents_per_100K\n",
       "0      AK  2021      734182          7            0.953442\n",
       "1      AK  2020      732923          9            1.227960\n",
       "2      AK  2022      733583          5            0.681586\n",
       "3      AK  2023      733583          2            0.272634\n",
       "4      AL  2022     5074296         20            0.394143\n",
       "..    ...   ...         ...        ...                 ...\n",
       "199    WV  2021     1785526          6            0.336035\n",
       "200    WY  2021      579483          3            0.517703\n",
       "201    WY  2020      577605          1            0.173129\n",
       "202    WY  2022      581381         10            1.720042\n",
       "203    WY  2023      581381          1            0.172004\n",
       "\n",
       "[204 rows x 5 columns]"
      ]
     },
     "execution_count": 206,
     "metadata": {},
     "output_type": "execute_result"
    }
   ],
   "source": [
    "merged_data_post"
   ]
  },
  {
   "cell_type": "code",
   "execution_count": 209,
   "id": "2316dca2-20ca-4835-a05e-6c5a6bf139fe",
   "metadata": {},
   "outputs": [
    {
     "name": "stderr",
     "output_type": "stream",
     "text": [
      "/tmp/ipykernel_17361/2337220890.py:4: FutureWarning: \n",
      "\n",
      "The `ci` parameter is deprecated. Use `errorbar=None` for the same effect.\n",
      "\n",
      "  sns.barplot(x='state', y='incidents_per_100K', hue='year', data=merged_data_post, ci=None)\n"
     ]
    },
    {
     "data": {
      "image/png": "[encoded data removed]",
      "text/plain": [
       "<Figure size 1440x720 with 1 Axes>"
      ]
     },
     "metadata": {
      "needs_background": "light"
     },
     "output_type": "display_data"
    }
   ],
   "source": [
    "plt.figure(figsize=(20, 10))\n",
    "\n",
    "# Using seaborn's barplot with hue as 'year' creates a grouped bar chart.\n",
    "sns.barplot(x='state', y='incidents_per_100K', hue='year', data=merged_data_post, ci=None)\n",
    "\n",
    "plt.xticks(rotation=90)\n",
    "plt.ylabel('Incidents per 100K')\n",
    "plt.xlabel('State')\n",
    "plt.title('Incidents per 100K by State for Each Year')\n",
    "plt.legend(title='Year')\n",
    "\n",
    "plt.tight_layout()\n",
    "plt.ylim(0, 1.75)\n",
    "plt.show()\n"
   ]
  },
  {
   "cell_type": "code",
   "execution_count": null,
   "id": "0938e6d0-169d-4ed8-ba57-e3e70a889058",
   "metadata": {},
   "outputs": [],
   "source": []
  }
 ],
 "metadata": {
  "kernelspec": {
   "display_name": "Python 3 (ipykernel)",
   "language": "python",
   "name": "python3"
  },
  "language_info": {
   "codemirror_mode": {
    "name": "ipython",
    "version": 3
   },
   "file_extension": ".py",
   "mimetype": "text/x-python",
   "name": "python",
   "nbconvert_exporter": "python",
   "pygments_lexer": "ipython3",
   "version": "3.8.6"
  }
 },
 "nbformat": 4,
 "nbformat_minor": 5
}
